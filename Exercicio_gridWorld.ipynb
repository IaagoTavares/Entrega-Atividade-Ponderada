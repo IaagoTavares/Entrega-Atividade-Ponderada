{
  "cells": [
    {
      "cell_type": "markdown",
      "metadata": {},
      "source": [
        "#### Link Colab: https://colab.research.google.com/drive/1u8nZkIBzlOatkzG7OfJnKZNpbpepNcxG?usp=sharing"
      ]
    },
    {
      "cell_type": "code",
      "execution_count": null,
      "metadata": {
        "id": "VcubfK-4Dv6y"
      },
      "outputs": [],
      "source": [
        "import numpy as np\n",
        "import random\n",
        "import matplotlib.pyplot as plt\n",
        "\n",
        "\n",
        "class GridWorld:\n",
        "    def __init__(self, tamanho=8, inicio=(0, 0), chegada=(7, 7), montanhas=[], areia=[]):\n",
        "        self.tamanho = tamanho\n",
        "        self.inicio = inicio\n",
        "        self.chegada = chegada\n",
        "        self.montanhas = montanhas\n",
        "        self.areia = areia\n",
        "        self.posicao_agente = inicio\n",
        "\n",
        "    def visualizar_grid(self):\n",
        "      grid = np.zeros((self.tamanho, self.tamanho))\n",
        "      grid[self.inicio] = 1  # Marcando o ponto de início\n",
        "      grid[self.chegada] = 2   # Marcando o ponto de chegada\n",
        "      for mountain in self.montanhas:\n",
        "          grid[mountain] = -1  # Marcando as montanhas\n",
        "      for areia in self.areia:\n",
        "          grid[areia] = -2  # Marcando a areia movediça\n",
        "\n",
        "      # Plotting the grid\n",
        "      plt.imshow(grid, cmap='terrain')\n",
        "      plt.colorbar()\n",
        "      plt.title('Grid World')\n",
        "      plt.show()\n",
        "\n",
        "    def acoes_disponiveis(self):\n",
        "        acaos = ['up', 'down', 'left', 'right']\n",
        "        x, y = self.posicao_agente\n",
        "        if x == 0:\n",
        "            acaos.remove('up')\n",
        "        if x == self.tamanho - 1:\n",
        "            acaos.remove('down')\n",
        "        if y == 0:\n",
        "            acaos.remove('left')\n",
        "        if y == self.tamanho - 1:\n",
        "            acaos.remove('right')\n",
        "        return acaos\n",
        "\n",
        "    def recompensas(self, posicao):\n",
        "        if posicao in self.montanhas:\n",
        "            return -100  # Montanha, penalidade alta\n",
        "        elif posicao in self.areia:\n",
        "            return -10   # Areia movediça, penalidade moderada\n",
        "        elif posicao == self.chegada:\n",
        "            return 100   # Ponto de chegada, recompensa alta\n",
        "        else:\n",
        "            return -1    # Movimento regular, penalidade baixa\n",
        "\n",
        "    def move(self, acao):\n",
        "        x, y = self.posicao_agente\n",
        "        if acao == 'up':\n",
        "            nova_posicao = (x - 1, y)\n",
        "        elif acao == 'down':\n",
        "            nova_posicao = (x + 1, y)\n",
        "        elif acao == 'left':\n",
        "            nova_posicao = (x, y - 1)\n",
        "        elif acao == 'right':\n",
        "            nova_posicao = (x, y + 1)\n",
        "\n",
        "        if nova_posicao not in self.montanhas:\n",
        "            self.posicao_agente = nova_posicao\n",
        "            return True\n",
        "        else:\n",
        "            return False\n",
        "\n",
        "    def game_over(self):\n",
        "        return self.posicao_agente == self.chegada or self.posicao_agente in self.areia\n",
        "\n"
      ]
    },
    {
      "cell_type": "code",
      "execution_count": 22,
      "metadata": {
        "colab": {
          "base_uri": "https://localhost:8080/",
          "height": 955
        },
        "id": "CAVxdVtnXT0a",
        "outputId": "0f7ea4e1-ca09-4aeb-f924-171df75a83ba"
      },
      "outputs": [
        {
          "data": {
            "image/png": "[encoded data removed]",
            "text/plain": [
              "<Figure size 640x480 with 2 Axes>"
            ]
          },
          "metadata": {},
          "output_type": "display_data"
        },
        {
          "name": "stdout",
          "output_type": "stream",
          "text": [
            "Tomando acao: right\n",
            "Posicao do Agente: (0, 1)\n",
            "Tomando acao: left\n",
            "Posicao do Agente: (0, 0)\n",
            "Tomando acao: down\n",
            "Posicao do Agente: (1, 0)\n",
            "Tomando acao: right\n",
            "Posicao do Agente: (1, 0)\n",
            "Tomando acao: up\n",
            "Posicao do Agente: (0, 0)\n",
            "Tomando acao: down\n",
            "Posicao do Agente: (1, 0)\n",
            "Tomando acao: right\n",
            "Posicao do Agente: (1, 0)\n",
            "Tomando acao: up\n",
            "Posicao do Agente: (0, 0)\n",
            "Tomando acao: down\n",
            "Posicao do Agente: (1, 0)\n",
            "Tomando acao: down\n",
            "Posicao do Agente: (2, 0)\n",
            "Tomando acao: down\n",
            "Posicao do Agente: (3, 0)\n",
            "Tomando acao: right\n",
            "Posicao do Agente: (3, 0)\n",
            "Tomando acao: up\n",
            "Posicao do Agente: (2, 0)\n",
            "Tomando acao: right\n",
            "Posicao do Agente: (2, 1)\n",
            "Agente chegou na areia! Game Over!\n"
          ]
        }
      ],
      "source": [
        "# Exemplo de uso:\n",
        "if __name__ == \"__main__\":\n",
        "    montanhas = [(1, 1), (2, 4), (3, 1)]\n",
        "    areia = [(2, 1), (3, 2)]\n",
        "    env = GridWorld(inicio=(0, 0), chegada=(7, 7), montanhas=montanhas, areia=areia)\n",
        "    env.visualizar_grid()\n",
        "    while not env.game_over():\n",
        "        acoes = env.acoes_disponiveis()\n",
        "        acao = random.choice(acoes)\n",
        "        print(\"Tomando acao:\", acao)\n",
        "        env.move(acao)\n",
        "        print(\"Posicao do Agente:\", env.posicao_agente)\n",
        "        if env.posicao_agente == env.chegada:\n",
        "            print(\"Chegou!\")\n",
        "        elif env.posicao_agente in env.areia:\n",
        "            print(\"Agente chegou na areia! Game Over!\")\n",
        "            break"
      ]
    }
  ],
  "metadata": {
    "colab": {
      "provenance": []
    },
    "kernelspec": {
      "display_name": "Python 3",
      "name": "python3"
    },
    "language_info": {
      "codemirror_mode": {
        "name": "ipython",
        "version": 3
      },
      "file_extension": ".py",
      "mimetype": "text/x-python",
      "name": "python",
      "nbconvert_exporter": "python",
      "pygments_lexer": "ipython3",
      "version": "3.10.8"
    }
  },
  "nbformat": 4,
  "nbformat_minor": 0
}
