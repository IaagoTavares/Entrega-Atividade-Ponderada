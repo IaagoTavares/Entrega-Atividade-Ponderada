{
 "cells": [
  {
   "cell_type": "code",
   "execution_count": 2,
   "metadata": {},
   "outputs": [],
   "source": [
    "def reward_function(params):\n",
    "    '''\n",
    "    Função de Recompensa Iago Medeiros Tavares\n",
    "    '''\n",
    "    # Read input parameters\n",
    "    all_wheels_on_track = params['all_wheels_on_track']\n",
    "    progress = params['progress']\n",
    "    steps = params['steps']\n",
    "    speed = params['speed']\n",
    "    track_width = params['track_width']\n",
    "    distance_from_center = params['distance_from_center']\n",
    "    \n",
    "    reward = progress\n",
    "    \n",
    "    distance_penalty = 1.0 - (distance_from_center / (track_width / 2))\n",
    "    \n",
    "    if not all_wheels_on_track:\n",
    "        reward = 1e-3\n",
    "    \n",
    "    speed_penalty = 1.0 - (speed / 4.0)  \n",
    "    reward *= distance_penalty\n",
    "    reward *= speed_penalty\n",
    "    \n",
    "    return float(reward)"
   ]
  }
 ],
 "metadata": {
  "kernelspec": {
   "display_name": "Python 3",
   "language": "python",
   "name": "python3"
  },
  "language_info": {
   "codemirror_mode": {
    "name": "ipython",
    "version": 3
   },
   "file_extension": ".py",
   "mimetype": "text/x-python",
   "name": "python",
   "nbconvert_exporter": "python",
   "pygments_lexer": "ipython3",
   "version": "3.10.8"
  }
 },
 "nbformat": 4,
 "nbformat_minor": 2
}
